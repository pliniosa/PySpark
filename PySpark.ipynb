{
  "nbformat": 4,
  "nbformat_minor": 0,
  "metadata": {
    "colab": {
      "name": "PySpark.ipynb",
      "provenance": [],
      "collapsed_sections": [],
      "authorship_tag": "ABX9TyPbNTJnK0RW9iQ8UtGB+mCs",
      "include_colab_link": true
    },
    "kernelspec": {
      "name": "python3",
      "display_name": "Python 3"
    },
    "language_info": {
      "name": "python"
    }
  },
  "cells": [
    {
      "cell_type": "markdown",
      "metadata": {
        "id": "view-in-github",
        "colab_type": "text"
      },
      "source": [
        "<a href=\"https://colab.research.google.com/github/pliniosa/PySpark/blob/main/PySpark.ipynb\" target=\"_parent\"><img src=\"https://colab.research.google.com/assets/colab-badge.svg\" alt=\"Open In Colab\"/></a>"
      ]
    },
    {
      "cell_type": "markdown",
      "source": [
        "#PySpark hands on 1\n",
        "O Objetivo desse material e estudar o framework spark"
      ],
      "metadata": {
        "id": "0bbKe_oO7nMD"
      }
    },
    {
      "cell_type": "markdown",
      "source": [
        "## Instalando pacotes necessários"
      ],
      "metadata": {
        "id": "i1swgVRj-wtl"
      }
    },
    {
      "cell_type": "code",
      "source": [
        "from IPython.display import clear_output\n",
        "\n",
        "!pip install --upgrade pip #atualiza o gestor de pacotes do Python\n",
        "!pip install findspark\n",
        "!pip install pyspark #instalar a lib pyspark (lib = framework)\n",
        "\n",
        "clear_output(wait=True) #limpar a saída"
      ],
      "metadata": {
        "colab": {
          "base_uri": "https://localhost:8080/"
        },
        "id": "amzMYQk8ChHf",
        "outputId": "461e17bd-b82c-4904-b845-374da6aec2a8"
      },
      "execution_count": null,
      "outputs": [
        {
          "output_type": "stream",
          "name": "stdout",
          "text": [
            "Requirement already satisfied: pip in /usr/local/lib/python3.7/dist-packages (22.0.4)\n",
            "\u001b[33mWARNING: Running pip as the 'root' user can result in broken permissions and conflicting behaviour with the system package manager. It is recommended to use a virtual environment instead: https://pip.pypa.io/warnings/venv\u001b[0m\u001b[33m\n",
            "\u001b[0mRequirement already satisfied: findspark in /usr/local/lib/python3.7/dist-packages (2.0.1)\n",
            "\u001b[33mWARNING: Running pip as the 'root' user can result in broken permissions and conflicting behaviour with the system package manager. It is recommended to use a virtual environment instead: https://pip.pypa.io/warnings/venv\u001b[0m\u001b[33m\n",
            "\u001b[0mRequirement already satisfied: pyspark in /usr/local/lib/python3.7/dist-packages (3.2.1)\n",
            "Requirement already satisfied: py4j==0.10.9.3 in /usr/local/lib/python3.7/dist-packages (from pyspark) (0.10.9.3)\n",
            "\u001b[33mWARNING: Running pip as the 'root' user can result in broken permissions and conflicting behaviour with the system package manager. It is recommended to use a virtual environment instead: https://pip.pypa.io/warnings/venv\u001b[0m\u001b[33m\n",
            "\u001b[0m"
          ]
        }
      ]
    },
    {
      "cell_type": "code",
      "source": [
        "import findspark, pyspark\n",
        "from pyspark.sql import SparkSession\n",
        "from pyspark import SparkFiles"
      ],
      "metadata": {
        "id": "lNNnZLdAEi2c"
      },
      "execution_count": null,
      "outputs": []
    },
    {
      "cell_type": "code",
      "source": [
        "findspark.init()\n",
        "spark = SparkSession.builder.getOrCreate()"
      ],
      "metadata": {
        "id": "ActFTfFrE8Bx"
      },
      "execution_count": null,
      "outputs": []
    },
    {
      "cell_type": "markdown",
      "source": [
        "##Lendo Fonte de dados do GItHub"
      ],
      "metadata": {
        "id": "Og3j2L9SHAb3"
      }
    },
    {
      "cell_type": "code",
      "source": [
        "url = 'https://raw.githubusercontent.com/edsonlourenco/public_datasets/main/Carros.csv'\n",
        "\n",
        "spark.sparkContext.addFile(url) # Faz o download da base de dados\n",
        "csv_cars = SparkFiles.get('Carros.csv') #path do arquivo na tmp do arquivo\n",
        "df_cars = spark.read.csv(csv_cars, header=True, inferSchema=True, sep=';')"
      ],
      "metadata": {
        "id": "RsnLdgmOGA3b"
      },
      "execution_count": null,
      "outputs": []
    },
    {
      "cell_type": "markdown",
      "source": [
        "##Checando schema\n"
      ],
      "metadata": {
        "id": "aksWp9GDHDln"
      }
    },
    {
      "cell_type": "code",
      "source": [
        "df_cars.printSchema()"
      ],
      "metadata": {
        "colab": {
          "base_uri": "https://localhost:8080/"
        },
        "id": "SlfybJt_G7AR",
        "outputId": "0f4167ad-9af2-4d53-fd2f-24cf7169d32a"
      },
      "execution_count": null,
      "outputs": [
        {
          "output_type": "stream",
          "name": "stdout",
          "text": [
            "root\n",
            " |-- Consumo: integer (nullable = true)\n",
            " |-- Cilindros: integer (nullable = true)\n",
            " |-- Cilindradas: integer (nullable = true)\n",
            " |-- RelEixoTraseiro: integer (nullable = true)\n",
            " |-- Peso: integer (nullable = true)\n",
            " |-- Tempo: integer (nullable = true)\n",
            " |-- TipoMotor: integer (nullable = true)\n",
            " |-- Transmissao: integer (nullable = true)\n",
            " |-- Marchas: integer (nullable = true)\n",
            " |-- Carburadors: integer (nullable = true)\n",
            " |-- HP: integer (nullable = true)\n",
            "\n"
          ]
        }
      ]
    },
    {
      "cell_type": "markdown",
      "source": [
        "##Contar os registros\n"
      ],
      "metadata": {
        "id": "4cEparGwHPWm"
      }
    },
    {
      "cell_type": "code",
      "source": [
        "df_cars.count() #total de rows (linha)"
      ],
      "metadata": {
        "colab": {
          "base_uri": "https://localhost:8080/"
        },
        "id": "XCKPqzkKHUPv",
        "outputId": "a42d7eb7-bb24-498d-c6a4-3ef81a9144b1"
      },
      "execution_count": null,
      "outputs": [
        {
          "output_type": "execute_result",
          "data": {
            "text/plain": [
              "32"
            ]
          },
          "metadata": {},
          "execution_count": 13
        }
      ]
    },
    {
      "cell_type": "markdown",
      "source": [
        "## Exibindo os Dados"
      ],
      "metadata": {
        "id": "dMvCx6EKHidA"
      }
    },
    {
      "cell_type": "code",
      "source": [
        "df_cars.show(truncate=False)"
      ],
      "metadata": {
        "colab": {
          "base_uri": "https://localhost:8080/"
        },
        "id": "v0h9_MHDHlOA",
        "outputId": "dc08655c-5e62-44be-8809-50770900cdd8"
      },
      "execution_count": null,
      "outputs": [
        {
          "output_type": "stream",
          "name": "stdout",
          "text": [
            "+-------+---------+-----------+---------------+----+-----+---------+-----------+-------+-----------+---+\n",
            "|Consumo|Cilindros|Cilindradas|RelEixoTraseiro|Peso|Tempo|TipoMotor|Transmissao|Marchas|Carburadors|HP |\n",
            "+-------+---------+-----------+---------------+----+-----+---------+-----------+-------+-----------+---+\n",
            "|21     |6        |160        |39             |262 |1646 |0        |1          |4      |4          |110|\n",
            "|21     |6        |160        |39             |2875|1702 |0        |1          |4      |4          |110|\n",
            "|228    |4        |108        |385            |232 |1861 |1        |1          |4      |1          |93 |\n",
            "|214    |6        |258        |308            |3215|1944 |1        |0          |3      |1          |110|\n",
            "|187    |8        |360        |315            |344 |1702 |0        |0          |3      |2          |175|\n",
            "|181    |6        |225        |276            |346 |2022 |1        |0          |3      |1          |105|\n",
            "|143    |8        |360        |321            |357 |1584 |0        |0          |3      |4          |245|\n",
            "|244    |4        |1467       |369            |319 |20   |1        |0          |4      |2          |62 |\n",
            "|228    |4        |1408       |392            |315 |229  |1        |0          |4      |2          |95 |\n",
            "|192    |6        |1676       |392            |344 |183  |1        |0          |4      |4          |123|\n",
            "|178    |6        |1676       |392            |344 |189  |1        |0          |4      |4          |123|\n",
            "|164    |8        |2758       |307            |407 |174  |0        |0          |3      |3          |180|\n",
            "|173    |8        |2758       |307            |373 |176  |0        |0          |3      |3          |180|\n",
            "|152    |8        |2758       |307            |378 |18   |0        |0          |3      |3          |180|\n",
            "|104    |8        |472        |293            |525 |1798 |0        |0          |3      |4          |205|\n",
            "|104    |8        |460        |3              |5424|1782 |0        |0          |3      |4          |215|\n",
            "|147    |8        |440        |323            |5345|1742 |0        |0          |3      |4          |230|\n",
            "|324    |4        |787        |408            |22  |1947 |1        |1          |4      |1          |66 |\n",
            "|304    |4        |757        |493            |1615|1852 |1        |1          |4      |2          |52 |\n",
            "|339    |4        |711        |422            |1835|199  |1        |1          |4      |1          |65 |\n",
            "+-------+---------+-----------+---------------+----+-----+---------+-----------+-------+-----------+---+\n",
            "only showing top 20 rows\n",
            "\n"
          ]
        }
      ]
    },
    {
      "cell_type": "markdown",
      "source": [
        "## Selecionando colunas"
      ],
      "metadata": {
        "id": "U69MiY4-KrLD"
      }
    },
    {
      "cell_type": "code",
      "source": [
        "df_cars.select('Tempo').show(truncate=False) # SELECT Tempo FROM tb_cars"
      ],
      "metadata": {
        "colab": {
          "base_uri": "https://localhost:8080/"
        },
        "id": "qBsoL4rlHyVh",
        "outputId": "3aa88876-d73c-4d06-f78c-fcf2636be31a"
      },
      "execution_count": null,
      "outputs": [
        {
          "output_type": "stream",
          "name": "stdout",
          "text": [
            "+-----+\n",
            "|Tempo|\n",
            "+-----+\n",
            "|1646 |\n",
            "|1702 |\n",
            "|1861 |\n",
            "|1944 |\n",
            "|1702 |\n",
            "|2022 |\n",
            "|1584 |\n",
            "|20   |\n",
            "|229  |\n",
            "|183  |\n",
            "|189  |\n",
            "|174  |\n",
            "|176  |\n",
            "|18   |\n",
            "|1798 |\n",
            "|1782 |\n",
            "|1742 |\n",
            "|1947 |\n",
            "|1852 |\n",
            "|199  |\n",
            "+-----+\n",
            "only showing top 20 rows\n",
            "\n"
          ]
        }
      ]
    },
    {
      "cell_type": "markdown",
      "source": [
        "## Selecionando multiplas colunas"
      ],
      "metadata": {
        "id": "Lnp23rVTMHsQ"
      }
    },
    {
      "cell_type": "code",
      "source": [
        "cols = ['Tempo', 'Cilindros', 'RelEixoTraseiro']\n",
        "df_cars.select(cols).show(truncate=False)"
      ],
      "metadata": {
        "colab": {
          "base_uri": "https://localhost:8080/"
        },
        "id": "llAimoNEH3rs",
        "outputId": "e42ba80e-9d41-4617-a84b-de757af4959f"
      },
      "execution_count": null,
      "outputs": [
        {
          "output_type": "stream",
          "name": "stdout",
          "text": [
            "+-----+---------+---------------+\n",
            "|Tempo|Cilindros|RelEixoTraseiro|\n",
            "+-----+---------+---------------+\n",
            "|1646 |6        |39             |\n",
            "|1702 |6        |39             |\n",
            "|1861 |4        |385            |\n",
            "|1944 |6        |308            |\n",
            "|1702 |8        |315            |\n",
            "|2022 |6        |276            |\n",
            "|1584 |8        |321            |\n",
            "|20   |4        |369            |\n",
            "|229  |4        |392            |\n",
            "|183  |6        |392            |\n",
            "|189  |6        |392            |\n",
            "|174  |8        |307            |\n",
            "|176  |8        |307            |\n",
            "|18   |8        |307            |\n",
            "|1798 |8        |293            |\n",
            "|1782 |8        |3              |\n",
            "|1742 |8        |323            |\n",
            "|1947 |4        |408            |\n",
            "|1852 |4        |493            |\n",
            "|199  |4        |422            |\n",
            "+-----+---------+---------------+\n",
            "only showing top 20 rows\n",
            "\n"
          ]
        }
      ]
    },
    {
      "cell_type": "markdown",
      "source": [
        "## Melhorando a identação do codigo"
      ],
      "metadata": {
        "id": "5uYeYND-M7P0"
      }
    },
    {
      "cell_type": "code",
      "source": [
        "cols = ['Tempo', 'Cilindros', 'RelEixoTraseiro']\n",
        "(\n",
        "    df_cars\n",
        "        .orderBy('Tempo')\n",
        "        .select(cols)\n",
        "        .show(truncate=False)\n",
        ")"
      ],
      "metadata": {
        "colab": {
          "base_uri": "https://localhost:8080/"
        },
        "id": "a1icg-CqM6L0",
        "outputId": "daa108a3-e9d4-4e60-a0eb-c03fe77c66cb"
      },
      "execution_count": null,
      "outputs": [
        {
          "output_type": "stream",
          "name": "stdout",
          "text": [
            "+-----+---------+---------------+\n",
            "|Tempo|Cilindros|RelEixoTraseiro|\n",
            "+-----+---------+---------------+\n",
            "|18   |8        |307            |\n",
            "|20   |4        |369            |\n",
            "|145  |8        |422            |\n",
            "|146  |8        |354            |\n",
            "|155  |6        |362            |\n",
            "|167  |4        |443            |\n",
            "|169  |4        |377            |\n",
            "|173  |8        |315            |\n",
            "|174  |8        |307            |\n",
            "|176  |8        |307            |\n",
            "|183  |6        |392            |\n",
            "|186  |4        |411            |\n",
            "|189  |6        |392            |\n",
            "|189  |4        |408            |\n",
            "|199  |4        |422            |\n",
            "|229  |4        |392            |\n",
            "|1541 |8        |373            |\n",
            "|1584 |8        |321            |\n",
            "|1646 |6        |39             |\n",
            "|1687 |8        |276            |\n",
            "+-----+---------+---------------+\n",
            "only showing top 20 rows\n",
            "\n"
          ]
        }
      ]
    },
    {
      "cell_type": "markdown",
      "source": [
        "## Agrupamento"
      ],
      "metadata": {
        "id": "DkX2VuFWOIZx"
      }
    },
    {
      "cell_type": "code",
      "source": [
        "from pyspark.sql import functions as F\n",
        "\n",
        "(\n",
        "    df_cars\n",
        "      .groupBy('Cilindros')\n",
        "      .agg(\n",
        "          F.count('*').alias('Quantidade')\n",
        "          ).show()\n",
        ")"
      ],
      "metadata": {
        "colab": {
          "base_uri": "https://localhost:8080/"
        },
        "id": "zz0uDw3WNtTB",
        "outputId": "095d60a7-7187-4673-81fb-853cd2a0de48"
      },
      "execution_count": null,
      "outputs": [
        {
          "output_type": "stream",
          "name": "stdout",
          "text": [
            "+---------+----------+\n",
            "|Cilindros|Quantidade|\n",
            "+---------+----------+\n",
            "|        6|         7|\n",
            "|        4|        11|\n",
            "|        8|        14|\n",
            "+---------+----------+\n",
            "\n"
          ]
        }
      ]
    },
    {
      "cell_type": "code",
      "source": [
        "(\n",
        "    df_cars\n",
        "            .groupBy('TipoMotor')\n",
        "            .agg(F.sum('Peso').alias('Peso_Total'))\n",
        "            .orderBy('TipoMotor')\n",
        "            .select(\n",
        "                F.lit('Carros')\n",
        "                .alias('Categorias'), \n",
        "                F.col('TipoMotor'), \n",
        "                F.col('Peso_Total')\n",
        "            ).show()\n",
        ")"
      ],
      "metadata": {
        "colab": {
          "base_uri": "https://localhost:8080/"
        },
        "id": "bL9aAqkiPCf8",
        "outputId": "fedd38fd-77c6-4e4d-88fd-1d687702d9f8"
      },
      "execution_count": null,
      "outputs": [
        {
          "output_type": "stream",
          "name": "stdout",
          "text": [
            "+----------+---------+----------+\n",
            "|Categorias|TipoMotor|Peso_Total|\n",
            "+----------+---------+----------+\n",
            "|    Carros|        0|     25471|\n",
            "|    Carros|        1|     14778|\n",
            "+----------+---------+----------+\n",
            "\n"
          ]
        }
      ]
    },
    {
      "cell_type": "markdown",
      "source": [
        "## Extraindo a média (avg - average)"
      ],
      "metadata": {
        "id": "yfjxgWQMSxur"
      }
    },
    {
      "cell_type": "code",
      "source": [
        "(\n",
        "    df_cars\n",
        "            .groupBy('TipoMotor')\n",
        "            .agg(F.avg('Cilindradas').alias('Cilindradas_Med'))\n",
        "            .orderBy('TipoMotor')\n",
        "            .select(\n",
        "                F.lit('Carros').alias('Categorias'), \n",
        "                F.col('TipoMotor'), \n",
        "                F.col('Cilindradas_Med')\n",
        "            ).show()\n",
        ")"
      ],
      "metadata": {
        "colab": {
          "base_uri": "https://localhost:8080/"
        },
        "id": "DUjtV2qjS2cD",
        "outputId": "0e6f5712-e9a9-4b42-9644-b3f2bba24e9e"
      },
      "execution_count": null,
      "outputs": [
        {
          "output_type": "stream",
          "name": "stdout",
          "text": [
            "+----------+---------+-----------------+\n",
            "|Categorias|TipoMotor|  Cilindradas_Med|\n",
            "+----------+---------+-----------------+\n",
            "|    Carros|        0|            781.0|\n",
            "|    Carros|        1|816.0714285714286|\n",
            "+----------+---------+-----------------+\n",
            "\n"
          ]
        }
      ]
    },
    {
      "cell_type": "markdown",
      "source": [
        "## Conversão de tipos"
      ],
      "metadata": {
        "id": "pEFlJzvBTTnH"
      }
    },
    {
      "cell_type": "code",
      "source": [
        "from pyspark.sql.types import IntegerType\n",
        "(\n",
        "    df_cars\n",
        "            .groupBy('TipoMotor')\n",
        "            .agg(F.avg('Cilindradas').cast(IntegerType()).alias('Cilindradas_Med'))\n",
        "            .select(\n",
        "                F.lit('Carros').alias('Categorias'), \n",
        "                F.col('TipoMotor'), \n",
        "                F.col('Cilindradas_Med')\n",
        "            ).show()\n",
        ")"
      ],
      "metadata": {
        "colab": {
          "base_uri": "https://localhost:8080/"
        },
        "id": "7p_knAdyRubj",
        "outputId": "e8ddfcf2-8708-448c-c21a-28377987a5e6"
      },
      "execution_count": null,
      "outputs": [
        {
          "output_type": "stream",
          "name": "stdout",
          "text": [
            "+----------+---------+---------------+\n",
            "|Categorias|TipoMotor|Cilindradas_Med|\n",
            "+----------+---------+---------------+\n",
            "|    Carros|        1|            816|\n",
            "|    Carros|        0|            781|\n",
            "+----------+---------+---------------+\n",
            "\n"
          ]
        }
      ]
    },
    {
      "cell_type": "markdown",
      "source": [
        "## Filtrando os dados"
      ],
      "metadata": {
        "id": "uF53zR08U67i"
      }
    },
    {
      "cell_type": "code",
      "source": [
        "from pyspark.sql import functions as F\n",
        "\n",
        "#df_cars.filter(F.col('TipoMotor') == 1).show(truncate=False)\n",
        "#df_cars.where(F.col('TipoMotor') == 1).show(truncate=False)\n",
        "df_cars.where(df_cars.TipoMotor == 1).show(truncate=False)"
      ],
      "metadata": {
        "colab": {
          "base_uri": "https://localhost:8080/"
        },
        "id": "aofsU6EMOmKB",
        "outputId": "c8f7a011-26ee-4fa4-cfa2-4a436c0e2a74"
      },
      "execution_count": null,
      "outputs": [
        {
          "output_type": "stream",
          "name": "stdout",
          "text": [
            "+-------+---------+-----------+---------------+----+-----+---------+-----------+-------+-----------+---+\n",
            "|Consumo|Cilindros|Cilindradas|RelEixoTraseiro|Peso|Tempo|TipoMotor|Transmissao|Marchas|Carburadors|HP |\n",
            "+-------+---------+-----------+---------------+----+-----+---------+-----------+-------+-----------+---+\n",
            "|228    |4        |108        |385            |232 |1861 |1        |1          |4      |1          |93 |\n",
            "|214    |6        |258        |308            |3215|1944 |1        |0          |3      |1          |110|\n",
            "|181    |6        |225        |276            |346 |2022 |1        |0          |3      |1          |105|\n",
            "|244    |4        |1467       |369            |319 |20   |1        |0          |4      |2          |62 |\n",
            "|228    |4        |1408       |392            |315 |229  |1        |0          |4      |2          |95 |\n",
            "|192    |6        |1676       |392            |344 |183  |1        |0          |4      |4          |123|\n",
            "|178    |6        |1676       |392            |344 |189  |1        |0          |4      |4          |123|\n",
            "|324    |4        |787        |408            |22  |1947 |1        |1          |4      |1          |66 |\n",
            "|304    |4        |757        |493            |1615|1852 |1        |1          |4      |2          |52 |\n",
            "|339    |4        |711        |422            |1835|199  |1        |1          |4      |1          |65 |\n",
            "|215    |4        |1201       |37             |2465|2001 |1        |0          |3      |1          |97 |\n",
            "|273    |4        |79         |408            |1935|189  |1        |1          |4      |1          |66 |\n",
            "|304    |4        |951        |377            |1513|169  |1        |1          |5      |2          |113|\n",
            "|214    |4        |121        |411            |278 |186  |1        |1          |4      |2          |109|\n",
            "+-------+---------+-----------+---------------+----+-----+---------+-----------+-------+-----------+---+\n",
            "\n"
          ]
        }
      ]
    },
    {
      "cell_type": "code",
      "source": [
        ""
      ],
      "metadata": {
        "id": "pIJKludaOiCO"
      },
      "execution_count": null,
      "outputs": []
    }
  ]
}